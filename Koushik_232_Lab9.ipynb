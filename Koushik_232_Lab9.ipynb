{
 "cells": [
  {
   "cell_type": "code",
   "execution_count": 10,
   "id": "8d540944",
   "metadata": {},
   "outputs": [
    {
     "name": "stdout",
     "output_type": "stream",
     "text": [
      "\n",
      "Array Indexing is: 1\n",
      "\n",
      "Fancy Indexing [1 2 3]\n"
     ]
    }
   ],
   "source": [
    "# Write a program to distinguish between Array Indexing and Fancy Indexing.\n",
    "import numpy as np\n",
    "arr1=np.array([1,2,3,4])\n",
    "print(\"\\nArray Indexing is:\",arr1[0])\n",
    "print(\"\\nFancy Indexing\",arr1[[0,1,2]])"
   ]
  },
  {
   "cell_type": "code",
   "execution_count": 28,
   "id": "2e0f715a",
   "metadata": {},
   "outputs": [
    {
     "name": "stdout",
     "output_type": "stream",
     "text": [
      "[[0.81872352 0.92871774]\n",
      " [0.27799817 0.7100481 ]]\n",
      "\n",
      "\n",
      "[0.81872352]\n",
      "\n",
      "\n",
      "[[0.81872352 0.92871774]\n",
      " [0.27799817 0.7100481 ]]\n"
     ]
    }
   ],
   "source": [
    "# Execute the 2D array Slicing.\n",
    "import numpy as np\n",
    "arr=np.random.rand(2,2)\n",
    "print(arr)\n",
    "print(\"\\n\")\n",
    "print(arr[0][0:1])\n",
    "print(\"\\n\")\n",
    "print(arr[0:2][0:2])"
   ]
  },
  {
   "cell_type": "code",
   "execution_count": 42,
   "id": "5e00afb9",
   "metadata": {},
   "outputs": [
    {
     "name": "stdout",
     "output_type": "stream",
     "text": [
      "[[[[[1 2 3 4]]]]]\n"
     ]
    }
   ],
   "source": [
    "# Create the 5-Dimensional arrays using ‘ndmin’.\n",
    "import numpy as np\n",
    "arr=np.array([1,2,3,4],ndmin=5)\n",
    "print(arr)"
   ]
  },
  {
   "cell_type": "code",
   "execution_count": 32,
   "id": "2c6af439",
   "metadata": {},
   "outputs": [
    {
     "name": "stdout",
     "output_type": "stream",
     "text": [
      "[[1 2 3]\n",
      " [4 5 6]\n",
      " [7 8 9]]\n"
     ]
    }
   ],
   "source": [
    "# Reshape the array from 1-D to 2-D array.\n",
    "import numpy as np\n",
    "\n",
    "arr = np.array([1, 2, 3, 4, 5, 6, 7, 8, 9])\n",
    "\n",
    "na = arr.reshape(3, 3)\n",
    "\n",
    "print(na)"
   ]
  },
  {
   "cell_type": "code",
   "execution_count": 34,
   "id": "60b62f03",
   "metadata": {},
   "outputs": [
    {
     "name": "stdout",
     "output_type": "stream",
     "text": [
      "[[1 2 3]\n",
      " [4 5 6]]\n",
      "[1 2 3 4 5 6]\n",
      "[[1 2 3]\n",
      " [4 5 6]]\n",
      "[[[1 4]\n",
      "  [2 5]\n",
      "  [3 6]]]\n"
     ]
    }
   ],
   "source": [
    "# Perform the Stack functions in Numpy arrays – Stack(), hstack(), vstack(), and dstack().\n",
    "import numpy as np\n",
    "\n",
    "arr1 = np.array([1, 2, 3])\n",
    "\n",
    "arr2 = np.array([4, 5, 6])\n",
    "\n",
    "arr = np.stack((arr1, arr2), axis=0)\n",
    "print(\"stack function\",arr)\n",
    "arr = np.hstack((arr1, arr2))\n",
    "print(\"hstack function\",arr)\n",
    "arr = np.vstack((arr1, arr2))\n",
    "print(\"vstack function\",arr)\n",
    "arr = np.dstack((arr1, arr2))\n",
    "print(\"dstack function\",arr)"
   ]
  },
  {
   "cell_type": "code",
   "execution_count": 40,
   "id": "d4fd00fc",
   "metadata": {},
   "outputs": [
    {
     "name": "stdout",
     "output_type": "stream",
     "text": [
      "1\n"
     ]
    }
   ],
   "source": [
    "# Perform the searchsort method in Numpy array.\n",
    "import numpy as np\n",
    "\n",
    "arr = np.array([6, 8, 9,7])\n",
    "\n",
    "x = np.searchsorted(arr, 7,side='left')\n",
    "\n",
    "print(x)"
   ]
  },
  {
   "cell_type": "code",
   "execution_count": 43,
   "id": "27d562b9",
   "metadata": {},
   "outputs": [
    {
     "name": "stdout",
     "output_type": "stream",
     "text": [
      "[('Koushik Da', 23, 55.) ('KD', 23, 59.)]\n"
     ]
    }
   ],
   "source": [
    "# Create Numpy Structured array using your domain features.\n",
    "import numpy as np\n",
    "std_info = np.array([('Koushik Das', 23, 55.0), ('KD', 23, 59.0)],\n",
    "       dtype=[('std_name', (np.str_, 10)), ('std_age', np.int32), ('std_weight', np.float64)])\n",
    " \n",
    "print(std_info)"
   ]
  },
  {
   "cell_type": "code",
   "execution_count": 56,
   "id": "ee2988f2",
   "metadata": {},
   "outputs": [
    {
     "name": "stdout",
     "output_type": "stream",
     "text": [
      "   0  1  2  3\n",
      "0  1  2  3  4\n",
      "1  5  6  7  8\n",
      "\n",
      "\n",
      "   0\n",
      "0  1\n",
      "1  2\n",
      "2  3\n",
      "3  4\n",
      "4  5\n",
      "           One Two Three\n",
      "One    Koushik  KD  Sanu\n",
      "Two    Koushik  KD  Sanu\n",
      "Three  Koushik  KD  Sanu\n"
     ]
    }
   ],
   "source": [
    "# Create Data frame using List and Dictionary.\n",
    "import pandas as pd\n",
    "arr1=np.array([[1,2,3,4],[5,6,7,8]])\n",
    "df1=pd.DataFrame(arr1)\n",
    "print(df1)\n",
    "\n",
    "print(\"\\n\")\n",
    "\n",
    "arr2=np.array([1,2,3,4,5])\n",
    "df2=pd.DataFrame(arr2)\n",
    "print(df2)\n",
    "\n",
    "arr3={\"One\":\"Koushik\",\"Two\":\"KD\",\"Three\":\"Sanu\"}\n",
    "df3=pd.DataFrame(arr3,index=[\"One\",\"Two\",\"Three\"])\n",
    "print(df3)"
   ]
  },
  {
   "cell_type": "code",
   "execution_count": 13,
   "id": "c39baedc",
   "metadata": {},
   "outputs": [
    {
     "name": "stdout",
     "output_type": "stream",
     "text": [
      "      Student_ID Semster_Name     Paper_ID Paper_Name  Marks\n",
      "0    SID20131143        Sem_1  SEMI0012995    Paper 1   44.0\n",
      "1    SID20131143        Sem_1  SEMI0015183    Paper 2   74.0\n",
      "2            NaN          NaN          NaN        NaN    NaN\n",
      "3    SID20131143        Sem_1  SEMI0015910    Paper 4   44.0\n",
      "4    SID20131143        Sem_1  SEMI0016208    Paper 5   95.0\n",
      "..           ...          ...          ...        ...    ...\n",
      "244  SID20131177        Sem_4  SEMI0044518    Paper 6   56.0\n",
      "245  SID20131177        Sem_4  SEMI0044275    Paper 7   80.0\n",
      "246  SID20131177        Sem_5  SEMI0058693    Paper 2   83.0\n",
      "247  SID20131177        Sem_5  SEMI0056942    Paper 3   53.0\n",
      "248  SID20131177        Sem_5  SEMI0055343    Paper 4   93.0\n",
      "\n",
      "[249 rows x 5 columns]\n",
      "     Student_ID  Semster_Name  Paper_ID  Paper_Name  Marks\n",
      "0         False         False     False       False  False\n",
      "1         False         False     False       False  False\n",
      "2          True          True      True        True   True\n",
      "3         False         False     False       False  False\n",
      "4         False         False     False       False  False\n",
      "..          ...           ...       ...         ...    ...\n",
      "244       False         False     False       False  False\n",
      "245       False         False     False       False  False\n",
      "246       False         False     False       False  False\n",
      "247       False         False     False       False  False\n",
      "248       False         False     False       False  False\n",
      "\n",
      "[249 rows x 5 columns]\n",
      "     Student_ID  Semster_Name  Paper_ID  Paper_Name  Marks\n",
      "0          True          True      True        True   True\n",
      "1          True          True      True        True   True\n",
      "2         False         False     False       False  False\n",
      "3          True          True      True        True   True\n",
      "4          True          True      True        True   True\n",
      "..          ...           ...       ...         ...    ...\n",
      "244        True          True      True        True   True\n",
      "245        True          True      True        True   True\n",
      "246        True          True      True        True   True\n",
      "247        True          True      True        True   True\n",
      "248        True          True      True        True   True\n",
      "\n",
      "[249 rows x 5 columns]\n",
      "      Student_ID Semster_Name     Paper_ID Paper_Name  Marks\n",
      "0    SID20131143        Sem_1  SEMI0012995    Paper 1   44.0\n",
      "1    SID20131143        Sem_1  SEMI0015183    Paper 2   74.0\n",
      "3    SID20131143        Sem_1  SEMI0015910    Paper 4   44.0\n",
      "4    SID20131143        Sem_1  SEMI0016208    Paper 5   95.0\n",
      "5    SID20131143        Sem_1  SEMI0017431    Paper 6   61.0\n",
      "..           ...          ...          ...        ...    ...\n",
      "244  SID20131177        Sem_4  SEMI0044518    Paper 6   56.0\n",
      "245  SID20131177        Sem_4  SEMI0044275    Paper 7   80.0\n",
      "246  SID20131177        Sem_5  SEMI0058693    Paper 2   83.0\n",
      "247  SID20131177        Sem_5  SEMI0056942    Paper 3   53.0\n",
      "248  SID20131177        Sem_5  SEMI0055343    Paper 4   93.0\n",
      "\n",
      "[244 rows x 5 columns]\n",
      "      Student_ID Semster_Name     Paper_ID Paper_Name     Marks\n",
      "0    SID20131143        Sem_1  SEMI0012995    Paper 1      44.0\n",
      "1    SID20131143        Sem_1  SEMI0015183    Paper 2      74.0\n",
      "2       Hello KD     Hello KD     Hello KD   Hello KD  Hello KD\n",
      "3    SID20131143        Sem_1  SEMI0015910    Paper 4      44.0\n",
      "4    SID20131143        Sem_1  SEMI0016208    Paper 5      95.0\n",
      "..           ...          ...          ...        ...       ...\n",
      "244  SID20131177        Sem_4  SEMI0044518    Paper 6      56.0\n",
      "245  SID20131177        Sem_4  SEMI0044275    Paper 7      80.0\n",
      "246  SID20131177        Sem_5  SEMI0058693    Paper 2      83.0\n",
      "247  SID20131177        Sem_5  SEMI0056942    Paper 3      53.0\n",
      "248  SID20131177        Sem_5  SEMI0055343    Paper 4      93.0\n",
      "\n",
      "[249 rows x 5 columns]\n",
      "      Student_ID Semster_Name     Paper_ID Paper_Name  Marks\n",
      "0    SID20131143        Sem_1  SEMI0012995    Paper 1   44.0\n",
      "1    SID20131143        Sem_1  SEMI0015183    Paper 2   74.0\n",
      "2            NaN          NaN          NaN        NaN    NaN\n",
      "3    SID20131143        Sem_1  SEMI0015910    Paper 4   44.0\n",
      "4    SID20131143        Sem_1  SEMI0016208    Paper 5   95.0\n",
      "..           ...          ...          ...        ...    ...\n",
      "244  SID20131177        Sem_4  SEMI0044518    Paper 6   56.0\n",
      "245  SID20131177        Sem_4  SEMI0044275    Paper 7   80.0\n",
      "246  SID20131177        Sem_5  SEMI0058693    Paper 2   83.0\n",
      "247  SID20131177        Sem_5  SEMI0056942    Paper 3   53.0\n",
      "248  SID20131177        Sem_5  SEMI0055343    Paper 4   93.0\n",
      "\n",
      "[249 rows x 5 columns]\n"
     ]
    }
   ],
   "source": [
    "# Create Data frame on your Domain area and perform the following operations to find and eliminate the missing data from the dataset.\n",
    "import pandas as pd\n",
    "r=pd.read_csv(\"./Student_Portal_dataset.csv\")\n",
    "\n",
    "print(r)\n",
    "\n",
    "df=r.isnull()\n",
    "print(df)\n",
    "\n",
    "df=r.notnull()\n",
    "print(df)\n",
    "\n",
    "df=r.dropna()\n",
    "print(df)\n",
    "\n",
    "df=r.fillna(\"Hello KD\")\n",
    "print(df)\n",
    "\n",
    "df=r.replace(\"Hello KD\",\"KD\")\n",
    "print(df)"
   ]
  },
  {
   "cell_type": "code",
   "execution_count": 18,
   "id": "81f31ff2",
   "metadata": {},
   "outputs": [
    {
     "name": "stdout",
     "output_type": "stream",
     "text": [
      "                  Semster_Name     Paper_ID Paper_Name\n",
      "Marks Student_ID                                      \n",
      "44.0  SID20131143        Sem_1  SEMI0012995    Paper 1\n",
      "74.0  SID20131143        Sem_1  SEMI0015183    Paper 2\n",
      "NaN   NaN                  NaN          NaN        NaN\n",
      "44.0  SID20131143        Sem_1  SEMI0015910    Paper 4\n",
      "95.0  SID20131143        Sem_1  SEMI0016208    Paper 5\n",
      "...                        ...          ...        ...\n",
      "56.0  SID20131177        Sem_4  SEMI0044518    Paper 6\n",
      "80.0  SID20131177        Sem_4  SEMI0044275    Paper 7\n",
      "83.0  SID20131177        Sem_5  SEMI0058693    Paper 2\n",
      "53.0  SID20131177        Sem_5  SEMI0056942    Paper 3\n",
      "93.0  SID20131177        Sem_5  SEMI0055343    Paper 4\n",
      "\n",
      "[249 rows x 3 columns]\n"
     ]
    }
   ],
   "source": [
    "# Q10. Perform the Hierarchical Indexing in the above created dataset.\n",
    "import pandas as pd\n",
    "r=pd.read_csv(\"./Student_Portal_dataset.csv\")\n",
    "# a=r.set_index([\"Student_ID\",\"Semster_Name\",\"Paper_ID\",\"Paper_Name\",\"Marks\"])\n",
    "a=r.set_index([\"Marks\",\"Student_ID\"])\n",
    "print(a)"
   ]
  },
  {
   "cell_type": "code",
   "execution_count": null,
   "id": "cca691b1",
   "metadata": {},
   "outputs": [],
   "source": []
  }
 ],
 "metadata": {
  "kernelspec": {
   "display_name": "Python 3 (ipykernel)",
   "language": "python",
   "name": "python3"
  },
  "language_info": {
   "codemirror_mode": {
    "name": "ipython",
    "version": 3
   },
   "file_extension": ".py",
   "mimetype": "text/x-python",
   "name": "python",
   "nbconvert_exporter": "python",
   "pygments_lexer": "ipython3",
   "version": "3.10.6"
  }
 },
 "nbformat": 4,
 "nbformat_minor": 5
}
